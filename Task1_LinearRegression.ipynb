{
  "nbformat": 4,
  "nbformat_minor": 0,
  "metadata": {
    "colab": {
      "name": "Task1-LinearRegression.ipynb",
      "provenance": []
    },
    "kernelspec": {
      "name": "python3",
      "display_name": "Python 3"
    }
  },
  "cells": [
    {
      "cell_type": "markdown",
      "metadata": {
        "id": "RX9C5gD_J1F7"
      },
      "source": [
        "## **The Sparks Foundation - Graduate Rotational Internship Program**\r\n",
        "### **Data Science and Business Analytics Task-1**\r\n",
        "##### A simple linear regression task to predict the percentage of an student based on the number of study hours per day\r\n",
        "\r\n"
      ]
    },
    {
      "cell_type": "code",
      "metadata": {
        "id": "nv0ueTI3KsDP"
      },
      "source": [
        "# Import all the required Libraries\r\n",
        "import pandas as pd\r\n",
        "import numpy as np  \r\n",
        "import matplotlib.pyplot as plt  \r\n",
        "%matplotlib inline"
      ],
      "execution_count": 1,
      "outputs": []
    },
    {
      "cell_type": "code",
      "metadata": {
        "colab": {
          "base_uri": "https://localhost:8080/",
          "height": 442
        },
        "id": "qCDY8nP8Lr4C",
        "outputId": "6ffc9b83-6198-409c-8bcb-6a7db33c2fa9"
      },
      "source": [
        "# Reading data from remote link\r\n",
        "url = \"http://bit.ly/w-data\"\r\n",
        "data = pd.read_csv(url)\r\n",
        "print(\"Data imported successfully\\n\")\r\n",
        "\r\n",
        "# size is number of observations\r\n",
        "size=data.size\r\n",
        "print(\"Data have total\",size,\"observations\\n\")\r\n",
        "\r\n",
        "print(\"First 10 observations are shown below\")\r\n",
        "data.head(10)"
      ],
      "execution_count": 2,
      "outputs": [
        {
          "output_type": "stream",
          "text": [
            "Data imported successfully\n",
            "\n",
            "Data have total 50 observations\n",
            "\n",
            "First 10 observations are shown below\n"
          ],
          "name": "stdout"
        },
        {
          "output_type": "execute_result",
          "data": {
            "text/html": [
              "<div>\n",
              "<style scoped>\n",
              "    .dataframe tbody tr th:only-of-type {\n",
              "        vertical-align: middle;\n",
              "    }\n",
              "\n",
              "    .dataframe tbody tr th {\n",
              "        vertical-align: top;\n",
              "    }\n",
              "\n",
              "    .dataframe thead th {\n",
              "        text-align: right;\n",
              "    }\n",
              "</style>\n",
              "<table border=\"1\" class=\"dataframe\">\n",
              "  <thead>\n",
              "    <tr style=\"text-align: right;\">\n",
              "      <th></th>\n",
              "      <th>Hours</th>\n",
              "      <th>Scores</th>\n",
              "    </tr>\n",
              "  </thead>\n",
              "  <tbody>\n",
              "    <tr>\n",
              "      <th>0</th>\n",
              "      <td>2.5</td>\n",
              "      <td>21</td>\n",
              "    </tr>\n",
              "    <tr>\n",
              "      <th>1</th>\n",
              "      <td>5.1</td>\n",
              "      <td>47</td>\n",
              "    </tr>\n",
              "    <tr>\n",
              "      <th>2</th>\n",
              "      <td>3.2</td>\n",
              "      <td>27</td>\n",
              "    </tr>\n",
              "    <tr>\n",
              "      <th>3</th>\n",
              "      <td>8.5</td>\n",
              "      <td>75</td>\n",
              "    </tr>\n",
              "    <tr>\n",
              "      <th>4</th>\n",
              "      <td>3.5</td>\n",
              "      <td>30</td>\n",
              "    </tr>\n",
              "    <tr>\n",
              "      <th>5</th>\n",
              "      <td>1.5</td>\n",
              "      <td>20</td>\n",
              "    </tr>\n",
              "    <tr>\n",
              "      <th>6</th>\n",
              "      <td>9.2</td>\n",
              "      <td>88</td>\n",
              "    </tr>\n",
              "    <tr>\n",
              "      <th>7</th>\n",
              "      <td>5.5</td>\n",
              "      <td>60</td>\n",
              "    </tr>\n",
              "    <tr>\n",
              "      <th>8</th>\n",
              "      <td>8.3</td>\n",
              "      <td>81</td>\n",
              "    </tr>\n",
              "    <tr>\n",
              "      <th>9</th>\n",
              "      <td>2.7</td>\n",
              "      <td>25</td>\n",
              "    </tr>\n",
              "  </tbody>\n",
              "</table>\n",
              "</div>"
            ],
            "text/plain": [
              "   Hours  Scores\n",
              "0    2.5      21\n",
              "1    5.1      47\n",
              "2    3.2      27\n",
              "3    8.5      75\n",
              "4    3.5      30\n",
              "5    1.5      20\n",
              "6    9.2      88\n",
              "7    5.5      60\n",
              "8    8.3      81\n",
              "9    2.7      25"
            ]
          },
          "metadata": {
            "tags": []
          },
          "execution_count": 2
        }
      ]
    },
    {
      "cell_type": "markdown",
      "metadata": {
        "id": "bMkijSHmOQ89"
      },
      "source": [
        "Now we will plot our dataset on a graph.\r\n"
      ]
    },
    {
      "cell_type": "code",
      "metadata": {
        "colab": {
          "base_uri": "https://localhost:8080/",
          "height": 295
        },
        "id": "ypnIaWU9OcNs",
        "outputId": "1a2b20f7-9d76-4d7e-96b3-ed853324b117"
      },
      "source": [
        "# we are using matplotlib here\r\n",
        "data.plot(x=\"Hours\",y=\"Scores\",style=\"o\")\r\n",
        "plt.title(\"Hours vs Scores\")\r\n",
        "plt.xlabel(\"Hours per day\")\r\n",
        "plt.ylabel(\"Scores\")\r\n",
        "plt.show()"
      ],
      "execution_count": 3,
      "outputs": [
        {
          "output_type": "display_data",
          "data": {
            "image/png": "[encoded data removed]",
            "text/plain": [
              "<Figure size 432x288 with 1 Axes>"
            ]
          },
          "metadata": {
            "tags": [],
            "needs_background": "light"
          }
        }
      ]
    },
    {
      "cell_type": "markdown",
      "metadata": {
        "id": "r_U-BYvEO_mS"
      },
      "source": [
        "**There is a positive correlation between two variables which means that if a student studies for more hours per day, then he/she will probably score more.**"
      ]
    },
    {
      "cell_type": "markdown",
      "metadata": {
        "id": "yqbTuLwKPYsQ"
      },
      "source": [
        "### **Preparing the data**\r\n",
        "\r\n",
        "#### In this part we have to remove ambiguities from the data and remove all the missing observations."
      ]
    },
    {
      "cell_type": "code",
      "metadata": {
        "colab": {
          "base_uri": "https://localhost:8080/",
          "height": 294
        },
        "id": "MLpBCYLbP56P",
        "outputId": "e7d55df9-d389-4a65-b7d8-1abde1d3c923"
      },
      "source": [
        "# Let's look at the summarized description of our data\r\n",
        "data.describe()\r\n"
      ],
      "execution_count": 4,
      "outputs": [
        {
          "output_type": "execute_result",
          "data": {
            "text/html": [
              "<div>\n",
              "<style scoped>\n",
              "    .dataframe tbody tr th:only-of-type {\n",
              "        vertical-align: middle;\n",
              "    }\n",
              "\n",
              "    .dataframe tbody tr th {\n",
              "        vertical-align: top;\n",
              "    }\n",
              "\n",
              "    .dataframe thead th {\n",
              "        text-align: right;\n",
              "    }\n",
              "</style>\n",
              "<table border=\"1\" class=\"dataframe\">\n",
              "  <thead>\n",
              "    <tr style=\"text-align: right;\">\n",
              "      <th></th>\n",
              "      <th>Hours</th>\n",
              "      <th>Scores</th>\n",
              "    </tr>\n",
              "  </thead>\n",
              "  <tbody>\n",
              "    <tr>\n",
              "      <th>count</th>\n",
              "      <td>25.000000</td>\n",
              "      <td>25.000000</td>\n",
              "    </tr>\n",
              "    <tr>\n",
              "      <th>mean</th>\n",
              "      <td>5.012000</td>\n",
              "      <td>51.480000</td>\n",
              "    </tr>\n",
              "    <tr>\n",
              "      <th>std</th>\n",
              "      <td>2.525094</td>\n",
              "      <td>25.286887</td>\n",
              "    </tr>\n",
              "    <tr>\n",
              "      <th>min</th>\n",
              "      <td>1.100000</td>\n",
              "      <td>17.000000</td>\n",
              "    </tr>\n",
              "    <tr>\n",
              "      <th>25%</th>\n",
              "      <td>2.700000</td>\n",
              "      <td>30.000000</td>\n",
              "    </tr>\n",
              "    <tr>\n",
              "      <th>50%</th>\n",
              "      <td>4.800000</td>\n",
              "      <td>47.000000</td>\n",
              "    </tr>\n",
              "    <tr>\n",
              "      <th>75%</th>\n",
              "      <td>7.400000</td>\n",
              "      <td>75.000000</td>\n",
              "    </tr>\n",
              "    <tr>\n",
              "      <th>max</th>\n",
              "      <td>9.200000</td>\n",
              "      <td>95.000000</td>\n",
              "    </tr>\n",
              "  </tbody>\n",
              "</table>\n",
              "</div>"
            ],
            "text/plain": [
              "           Hours     Scores\n",
              "count  25.000000  25.000000\n",
              "mean    5.012000  51.480000\n",
              "std     2.525094  25.286887\n",
              "min     1.100000  17.000000\n",
              "25%     2.700000  30.000000\n",
              "50%     4.800000  47.000000\n",
              "75%     7.400000  75.000000\n",
              "max     9.200000  95.000000"
            ]
          },
          "metadata": {
            "tags": []
          },
          "execution_count": 4
        }
      ]
    },
    {
      "cell_type": "code",
      "metadata": {
        "colab": {
          "base_uri": "https://localhost:8080/"
        },
        "id": "fZsSZMV0QTr5",
        "outputId": "5398a8e8-8b0c-4585-99e8-51b7a51050ba"
      },
      "source": [
        "# Check if there are any Null values in the data\r\n",
        "data.isnull().sum()"
      ],
      "execution_count": 5,
      "outputs": [
        {
          "output_type": "execute_result",
          "data": {
            "text/plain": [
              "Hours     0\n",
              "Scores    0\n",
              "dtype: int64"
            ]
          },
          "metadata": {
            "tags": []
          },
          "execution_count": 5
        }
      ]
    },
    {
      "cell_type": "markdown",
      "metadata": {
        "id": "JGaVP_gxRVnR"
      },
      "source": [
        "There is no missing value and all the values are in Interger Datatype only.\r\n",
        "We can proceed to divide the data in dependent (input) and independent (output) variables."
      ]
    },
    {
      "cell_type": "code",
      "metadata": {
        "id": "Ft4sZGYYRHnF"
      },
      "source": [
        "X = data.iloc[:, :-1].values  \r\n",
        "y = data.iloc[:, 1].values  "
      ],
      "execution_count": 6,
      "outputs": []
    },
    {
      "cell_type": "markdown",
      "metadata": {
        "id": "JyJdCYq-SCMG"
      },
      "source": [
        "Let's split the data into Training and Testing sets with test size to be 30% of whole datset."
      ]
    },
    {
      "cell_type": "code",
      "metadata": {
        "colab": {
          "base_uri": "https://localhost:8080/"
        },
        "id": "KWdYETh8TVQE",
        "outputId": "00db61eb-178e-4b1c-88c8-2c6261894b2a"
      },
      "source": [
        "# In this we will use sklearn \r\n",
        "from sklearn.model_selection import train_test_split  \r\n",
        "X_train, X_test, y_train, y_test = train_test_split(X, y, test_size=0.3, random_state=0) \r\n",
        "print(\"Number of Observations in Training set is\",X_train.size)\r\n",
        "print(\"Number of Observations in Testing set is\",X_test.size)\r\n"
      ],
      "execution_count": 7,
      "outputs": [
        {
          "output_type": "stream",
          "text": [
            "Number of Observations in Training set is 17\n",
            "Number of Observations in Testing set is 8\n"
          ],
          "name": "stdout"
        }
      ]
    },
    {
      "cell_type": "markdown",
      "metadata": {
        "id": "DIr0wEhRTj1T"
      },
      "source": [
        "### **Train the model**\r\n",
        "We will train the model using our Training datset "
      ]
    },
    {
      "cell_type": "code",
      "metadata": {
        "colab": {
          "base_uri": "https://localhost:8080/"
        },
        "id": "F8TIZi2lTxpb",
        "outputId": "7cf94b15-1929-4908-dd1b-807eda45b03b"
      },
      "source": [
        "# We will again use sklearn\r\n",
        "from sklearn.linear_model import LinearRegression\r\n",
        "# lr is our regression model  \r\n",
        "lr = LinearRegression()  \r\n",
        "lr.fit(X_train, y_train) "
      ],
      "execution_count": 8,
      "outputs": [
        {
          "output_type": "execute_result",
          "data": {
            "text/plain": [
              "LinearRegression(copy_X=True, fit_intercept=True, n_jobs=None, normalize=False)"
            ]
          },
          "metadata": {
            "tags": []
          },
          "execution_count": 8
        }
      ]
    },
    {
      "cell_type": "code",
      "metadata": {
        "colab": {
          "base_uri": "https://localhost:8080/"
        },
        "id": "Fvxuw1imUEuM",
        "outputId": "31077fe7-cb31-4674-c13f-1a00bccab929"
      },
      "source": [
        "# The obtained regression line is\r\n",
        "print(\"Regression line is \\nScores=\",lr.coef_[0],\" * Hours/day + \",lr.intercept_,)"
      ],
      "execution_count": 9,
      "outputs": [
        {
          "output_type": "stream",
          "text": [
            "Regression line is \n",
            "Scores= 9.788566686749045  * Hours/day +  2.3708153823418883\n"
          ],
          "name": "stdout"
        }
      ]
    },
    {
      "cell_type": "code",
      "metadata": {
        "colab": {
          "base_uri": "https://localhost:8080/",
          "height": 265
        },
        "id": "GIPKv5BaUVkP",
        "outputId": "0485aa9b-194e-4045-cf4e-8874f97e890b"
      },
      "source": [
        "# Let's plot this regression line\r\n",
        "line = lr.coef_*X+lr.intercept_\r\n",
        "\r\n",
        "# Plotting for the whole data\r\n",
        "plt.scatter(X, y)\r\n",
        "plt.plot(X, line)\r\n",
        "plt.show()"
      ],
      "execution_count": 10,
      "outputs": [
        {
          "output_type": "display_data",
          "data": {
            "image/png": "[encoded data removed]",
            "text/plain": [
              "<Figure size 432x288 with 1 Axes>"
            ]
          },
          "metadata": {
            "tags": [],
            "needs_background": "light"
          }
        }
      ]
    },
    {
      "cell_type": "markdown",
      "metadata": {
        "id": "178NStt0VI9E"
      },
      "source": [
        "### **Testing the model**\r\n"
      ]
    },
    {
      "cell_type": "code",
      "metadata": {
        "colab": {
          "base_uri": "https://localhost:8080/",
          "height": 294
        },
        "id": "JyfBH9HbVF7_",
        "outputId": "0bb244c8-c2b1-4429-8c42-8b6c22182c1b"
      },
      "source": [
        "y_pred=lr.predict(X_test)\r\n",
        "df = pd.DataFrame({'Actual Scores': y_test, 'Predicted Scores': y_pred})  \r\n",
        "df "
      ],
      "execution_count": 11,
      "outputs": [
        {
          "output_type": "execute_result",
          "data": {
            "text/html": [
              "<div>\n",
              "<style scoped>\n",
              "    .dataframe tbody tr th:only-of-type {\n",
              "        vertical-align: middle;\n",
              "    }\n",
              "\n",
              "    .dataframe tbody tr th {\n",
              "        vertical-align: top;\n",
              "    }\n",
              "\n",
              "    .dataframe thead th {\n",
              "        text-align: right;\n",
              "    }\n",
              "</style>\n",
              "<table border=\"1\" class=\"dataframe\">\n",
              "  <thead>\n",
              "    <tr style=\"text-align: right;\">\n",
              "      <th></th>\n",
              "      <th>Actual Scores</th>\n",
              "      <th>Predicted Scores</th>\n",
              "    </tr>\n",
              "  </thead>\n",
              "  <tbody>\n",
              "    <tr>\n",
              "      <th>0</th>\n",
              "      <td>20</td>\n",
              "      <td>17.053665</td>\n",
              "    </tr>\n",
              "    <tr>\n",
              "      <th>1</th>\n",
              "      <td>27</td>\n",
              "      <td>33.694229</td>\n",
              "    </tr>\n",
              "    <tr>\n",
              "      <th>2</th>\n",
              "      <td>69</td>\n",
              "      <td>74.806209</td>\n",
              "    </tr>\n",
              "    <tr>\n",
              "      <th>3</th>\n",
              "      <td>30</td>\n",
              "      <td>26.842232</td>\n",
              "    </tr>\n",
              "    <tr>\n",
              "      <th>4</th>\n",
              "      <td>62</td>\n",
              "      <td>60.123359</td>\n",
              "    </tr>\n",
              "    <tr>\n",
              "      <th>5</th>\n",
              "      <td>35</td>\n",
              "      <td>39.567369</td>\n",
              "    </tr>\n",
              "    <tr>\n",
              "      <th>6</th>\n",
              "      <td>24</td>\n",
              "      <td>20.969092</td>\n",
              "    </tr>\n",
              "    <tr>\n",
              "      <th>7</th>\n",
              "      <td>86</td>\n",
              "      <td>78.721636</td>\n",
              "    </tr>\n",
              "  </tbody>\n",
              "</table>\n",
              "</div>"
            ],
            "text/plain": [
              "   Actual Scores  Predicted Scores\n",
              "0             20         17.053665\n",
              "1             27         33.694229\n",
              "2             69         74.806209\n",
              "3             30         26.842232\n",
              "4             62         60.123359\n",
              "5             35         39.567369\n",
              "6             24         20.969092\n",
              "7             86         78.721636"
            ]
          },
          "metadata": {
            "tags": []
          },
          "execution_count": 11
        }
      ]
    },
    {
      "cell_type": "markdown",
      "metadata": {
        "id": "3kiCGtuVV9Xs"
      },
      "source": [
        "### **Evaluating the model**\r\n",
        "We have trained and tested our data. Now it's time to evaluate the model.\r\n",
        "There are various measures to do that like Mean Absolute Error or Coefficient of Determination.\r\n"
      ]
    },
    {
      "cell_type": "code",
      "metadata": {
        "colab": {
          "base_uri": "https://localhost:8080/"
        },
        "id": "qicCGAZ4V0DY",
        "outputId": "647db3d8-3f76-49d9-b8fb-011e70d01f9a"
      },
      "source": [
        "from sklearn import metrics \r\n",
        "print('Mean Absolute Error is:', metrics.mean_absolute_error(y_test, y_pred)) \r\n",
        "print(\"R^2 is:\",metrics.r2_score(y_test,y_pred))"
      ],
      "execution_count": 12,
      "outputs": [
        {
          "output_type": "stream",
          "text": [
            "Mean Absolute Error is: 4.419727808027651\n",
            "R^2 is: 0.9568211104435257\n"
          ],
          "name": "stdout"
        }
      ]
    },
    {
      "cell_type": "markdown",
      "metadata": {
        "id": "aG47tZzDXVWr"
      },
      "source": [
        "Mean absolutte error (MAE) shows the absolute error between the actual values and predicted values.\r\n"
      ]
    },
    {
      "cell_type": "markdown",
      "metadata": {
        "id": "C4nTrhrcZuKl"
      },
      "source": [
        "R-squared value is the coefficient of determination. R-sqaured value close to 1 shows that the model has a good fit on the given test values.\r\n"
      ]
    },
    {
      "cell_type": "markdown",
      "metadata": {
        "id": "lq4VbBTlaI_5"
      },
      "source": [
        "### **Prediction**"
      ]
    },
    {
      "cell_type": "code",
      "metadata": {
        "colab": {
          "base_uri": "https://localhost:8080/"
        },
        "id": "EHH6dQMqXGEE",
        "outputId": "d31c4ed2-ab58-41bd-e593-8b697d079075"
      },
      "source": [
        "hours=9.25\r\n",
        "pred=lr.predict([[hours]])\r\n",
        "print(\"Prescited score for\",hours,\"Hours per day is\",pred[0])"
      ],
      "execution_count": 13,
      "outputs": [
        {
          "output_type": "stream",
          "text": [
            "Prescited score for 9.25 Hours per day is 92.91505723477056\n"
          ],
          "name": "stdout"
        }
      ]
    },
    {
      "cell_type": "markdown",
      "metadata": {
        "id": "VP0Yd7K4bEeD"
      },
      "source": [
        "### **Task completed**"
      ]
    }
  ]
}